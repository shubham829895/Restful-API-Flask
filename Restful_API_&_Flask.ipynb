{
  "nbformat": 4,
  "nbformat_minor": 0,
  "metadata": {
    "colab": {
      "provenance": []
    },
    "kernelspec": {
      "name": "python3",
      "display_name": "Python 3"
    },
    "language_info": {
      "name": "python"
    }
  },
  "cells": [
    {
      "cell_type": "code",
      "source": [],
      "metadata": {
        "id": "pSxlicjI0kUk"
      },
      "execution_count": null,
      "outputs": []
    },
    {
      "cell_type": "markdown",
      "source": [
        "# practical Questions"
      ],
      "metadata": {
        "id": "AZ1JXd9c1VPG"
      }
    },
    {
      "cell_type": "markdown",
      "source": [
        "Question 1. What is a RESTful API?\n",
        "\n",
        "Answer- REST API stands for REpresentational State Transfer API. It is a type of API (Application Programming Interface) that allows communication between different systems over the internet. REST APIs work by sending requests and receiving responses, typically in JSON format, between the client and server.\n",
        "\n",
        "REST APIs use HTTP methods (such as GET, POST, PUT, DELETE) to define actions that can be performed on resources. These methods align with CRUD (Create, Read, Update, Delete) operations, which are used to manipulate resources over the web.\n",
        "\n",
        "A request is sent from the client to the server via a web URL, using one of the HTTP methods. The server then responds with the requested resource, which could be HTML, XML, Image, or JSON, with JSON being the most commonly used format for modern web services.\n",
        "\n",
        " Key Features of REST API\n",
        "\n",
        " Stateless: Each request from a client to a server must contain all the information the server needs to fulfill the request. No session state is stored on the server.\n",
        "\n",
        " Client-Server Architecture: RESTful APIs are based on a client-server model, where the client and server operate independently, allowing scalability.\n",
        "\n",
        " Cacheable: Responses from the server can be explicitly marked as cacheable or non-cacheable to improve performance.\n",
        "\n",
        " Uniform Interface: REST APIs follow a set of conventions and constraints, such as consistent URL paths, standardized HTTP methods, and status codes, to ensure smooth communication.\n",
        "\n",
        " Layered System: REST APIs can be deployed on multiple layers, which helps with scalability and security."
      ],
      "metadata": {
        "id": "LCv6yaWC1a1U"
      }
    },
    {
      "cell_type": "markdown",
      "source": [
        "Question 2.  Explain the concept of API specification?\n",
        "Answer- An API specification provides a broad understanding of the functionality of the API and the expected results. The specification is largely about the design of the API or your design philosophy. API design and functionality are key factors when choosing to integrate an API with an application.\n",
        "\n",
        "API full form is an Application Programming Interface that is a collection of communication protocols and subroutines used by various programs to communicate between them. A programmer can make use of various API tools to make their program easier and simpler. Also, an API facilitates programmers with an efficient way to develop their software programs. Thus api meaning is when an API helps two programs or applications to communicate with each other by providing them with the necessary tools and functions. It takes the request from the user and sends it to the service provider and then again sends the result generated from the service provider to the desired user.\n",
        "\n",
        "A developer extensively uses APIs in his software to implement various features by using an API call without writing complex codes for the same. We can create an API for an operating system , database system , hardware system, JavaScript file , or similar object-oriented files. Also, an API is similar to a GUI(Graphical User Interface) with one major difference. Unlike GUIs, an application program interface helps software developers to access web tools while a GUI helps to make a program easier to understand for users.\n",
        "\n",
        "APIs are the building blocks for the todays websites in which heavy data is transferred from the client to server and vice versa. If you want to learn such more concepts of the websites then you should enrol in our Full Stack Node Development Course\n",
        "\n",
        "The working of an API can be clearly explained with a few simple steps. Think of a client-server architecture where the client sends the request via a medium to the server and receives the response through the same medium. An API acts as a communication medium between two programs or systems for functioning. The client is the user/customer (who sends the request), the medium is the application interface programming , and the server is the backend (where the request is accepted and a response is provided). Steps followed in the working of APIs –\n",
        "\n",
        "The client initiates the requests via the APIs URI (Uniform Resource Identifier)\n",
        "The API makes a call to the server after receiving the request\n",
        "Then the server sends the response back to the API with the information\n",
        "Finally, the API transfers the data to the client\n",
        "APIs are considered safe in terms of attacks as it includes authorization credentials and an API gateway to limit access so as to minimize security threats. To provide additional security layers to the data, HTTP headers, query string parameters, or cookies are used.\n",
        "\n",
        "If we talk about the architectures, API’s architectures are:\n",
        "\n",
        "REST (Representational State Transfer)\n",
        "\n",
        "\n",
        "SOAP (Simple Object Access Protocol)\n",
        "\n",
        "\n",
        "Both define a standard communication protocol for the exchange of messages in XML (Extensible Markup Language).\n"
      ],
      "metadata": {
        "id": "OZSKyaOA2PK-"
      }
    },
    {
      "cell_type": "markdown",
      "source": [
        "Question 3. What is Flask, and why is it popular for building API?\n",
        "Answer- Flask is a popular Python web framework that is widely used to design sophisticated web applications, APIs, and microservices. As a result, this framework's simplicity, flexibility, scalability, reliability, and ability to process increased traffic are the key factors behind its popularity among businesses\n",
        "\n",
        "lask is a lightweight and flexible web framework for Python. It’s designed to make getting started with web development quick and easy, while still being powerful enough to build complex web applications. It is an API of Python that allows us to build web applications.\n",
        "\n",
        "It was developed by Armin Ronacher. Flask’s framework is more explicit than Django’s framework and is also easier to learn because it has less base code to implement a simple web application. Flask Python is based on the WSGI(Web Server Gateway Interface) toolkit and Jinja2 template engine.\n",
        "\n",
        "dvantages of Flask\n",
        "Flask is a lightweight backend framework with minimal dependencies.\n",
        "\n",
        "\n",
        "Flask is easy to learn because its simple and intuitive API makes it easy to learn and use for beginners.\n",
        "\n",
        "\n",
        "Flask is a flexible Framework because it allows you to customize and extend the framework to suit your needs easily.\n",
        "\n",
        "\n",
        "Flask can be used with any database like:- SQL and NoSQL and with any Frontend Technology such as React or Angular.\n",
        "\n",
        "\n",
        "Flask is great for small to medium projects that do not require the complexity of a large framework.\n",
        "\n",
        "\n",
        "Flask Documentation."
      ],
      "metadata": {
        "id": "CCPOHBHg2-ps"
      }
    },
    {
      "cell_type": "markdown",
      "source": [
        "Question 4. What is routing in Flask?\n",
        "\n",
        "Answer- Routing in Flask refers to the mechanism of mapping specific URLs (Uniform Resource Locators) to corresponding functions that handle the logic for those URLs. It dictates how the application responds to different client requests based on the requested path. The @app.route() decorator is used to bind a URL to a function. This decorator takes the URL path as an argument and associates it with the function immediately following it. When a client (e.g., a web browser) sends a request to that URL, Flask executes the associated function and returns its output as the response.\n",
        "\n",
        "App Routing means mapping the URLs to a specific function that will handle the logic for that URL. Modern web frameworks use more meaningful URLs to help users remember the URLs and make navigation simpler.\n",
        "\n",
        "Example: In our application, the URL (“/”) is associated with the root URL. So if our site’s domain was www.example.org and we want to add routing to “www.example.org/hello”, we would use “/hello”.\n",
        "\n",
        "To bind a function to an URL path we use the app.route decorator. In the below example, we have implemented the above routing in the flask.\n",
        "\n",
        "\n",
        "\n",
        "\n",
        "from flask import Flask\n",
        "\n",
        "app = Flask(__name__)\n",
        "\n",
        "# Pass the required route to the decorator.\n",
        "@app.route(\"/hello\")\n",
        "def hello():\n",
        "\treturn \"Hello, Welcome to GeeksForGeeks\"\n",
        "\n",
        "@app.route(\"/\")\n",
        "def index():\n",
        "\treturn \"Homepage of GeeksForGeeks\"\n",
        "\n",
        "if __name__ == \"__main__\":\n",
        "\tapp.run(debug=True)\n"
      ],
      "metadata": {
        "id": "H7n5HDkJ3sih"
      }
    },
    {
      "cell_type": "markdown",
      "source": [
        "Question 5. How do you create a simple Flask application?\n",
        "\n",
        "Answer- There are many modules or frameworks which allow building your webpage using python like a bottle, Django, Flask, etc. But the real popular ones are Flask and Django. Django is easy to use as compared to Flask but Flask provides you with the versatility to program with.\n",
        "To understand what Flask is you have to understand a few general terms.\n",
        "\n",
        "WSGI Web Server Gateway Interface (WSGI) has been adopted as a standard for Python web application development. WSGI is a specification for a universal interface between the web server and the web applications.\n",
        "\n",
        "\n",
        "Werkzeug It is a WSGI toolkit, which implements requests, response objects, and other utility functions. This enables building a web framework on top of it.\n",
        "\n",
        "\n",
        " The Flask framework uses Werkzeug as one of its bases.\n",
        "\n",
        "\n",
        "jinja2 jinja2 is a popular templating engine for Python. A web templating system combines a template with a certain data source to render dynamic web pages.\n",
        "\n",
        "\n",
        "Flask is a web application framework written in Python. Flask is based on the Werkzeug WSGI toolkit and Jinja2 template engine. Both are Pocco projects.\n",
        "\n",
        "Installation:\n",
        "\n",
        "We will require two packages to set up your environment. virtualenv for a user to create multiple Python environments side-by-side. Thereby, it can avoid compatibility issues between the different versions of the libraries and the next will be Flask itself.\n",
        "\n",
        "virtualenv\n",
        "\n",
        "pip install virtualenv\n",
        "Create Python virtual environment\n",
        "\n",
        "virtualenv venv\n",
        "Activate virtual environment\n",
        "\n",
        "windows > venv\\Scripts\\activate\n",
        "linux > source ./venv/bin/activate\n",
        "\n",
        "For windows, if this is your first time running the script, you might get an error like below:\n",
        "\n",
        "venv\\Scripts\\activate : File C:\\flask_project\\venv\\Scripts\\Activate.ps1 cannot be loaded because running scripts is disabled on this system. For  \n",
        "more information, see about_Execution_Policies at https:/go.microsoft.com/fwlink/?LinkID=135170.\n",
        "At line:1 char:1\n",
        "+ venv\\Scripts\\activate\n",
        "   + FullyQualifiedErrorId : UnauthorizedAccess\n",
        "\n",
        "This means that you don’t have access to execute the scripts.\n",
        "\n",
        "To solve this error, run the powershell as admin, when you right click on powershell icon, choose the option ‘Run as adminstrator’. Now, the powershell will open in the admin mode.\n",
        "\n",
        "Type the following command in Shell\n",
        "\n",
        "set-executionpolicy remotesigned\n",
        "\n",
        "\n",
        "Now, you will be prompted to change the execution policy. Please type A. This means Yes to all.\n",
        "\n",
        "Flask\n",
        "\n",
        "pip install Flask\n",
        "After completing the installation of the package, let’s get our hands on the code.\n",
        "\n",
        "\n",
        "\n",
        "\n",
        "# Importing flask module in the project is mandatory\n",
        "# An object of Flask class is our WSGI application.\n",
        "from flask import Flask\n",
        "\n",
        "# Flask constructor takes the name of\n",
        "# current module (__name__) as argument.\n",
        "app = Flask(__name__)\n",
        "\n",
        "# The route() function of the Flask class is a decorator,\n",
        "# which tells the application which URL should call\n",
        "# the associated function.\n",
        "@app.route('/')\n",
        "# ‘/’ URL is bound with hello_world() function.\n",
        "def hello_world():\n",
        "    return 'Hello World'\n",
        "\n",
        "# main driver function\n",
        "if __name__ == '__main__':\n",
        "\n",
        "    # run() method of Flask class runs the application\n",
        "    # on the local development server.\n",
        "    app.run()\n"
      ],
      "metadata": {
        "id": "anH6SBzf4GDt"
      }
    },
    {
      "cell_type": "markdown",
      "source": [
        "Question 6. What are HTTP methods used in RESTful APIs?\n",
        "\n",
        "Answer-JavaScript is by far one of the most popular languages when it comes to web development, powering most websites and web applications. Not being limited to only the client-side JavaScript is also one of the most popular languages which are used for developing server-side applications. Organizations use Javascript to create interactive and dynamic web applications for their customers. Today, most modern web applications rely on using REST architecture to improve the website’s dynamic capabilities.\n",
        "\n",
        "Thus, there are some of the most crucial HTTP methods that you must know as a developer, to develop RESTful APIs for your application. RESTful APIs are those that follow the REST (Representational State Transfer) architectural style. With this being said, let’s continue with the article on the essential RESTful methods to assist you to have with working on the server side using JavaScript.\n",
        "\n",
        " Essential HTTP Methods in RESTful API Development\n",
        "1. GET\n",
        "The GET method is used to ‘retrieve’ a record or a collection of records from the server. The below code shows the implementation of the GET method in JavaScript.\n",
        "\n",
        "Example:\n",
        "\n",
        "1.1. Backend (Node with Express)\n",
        "\n",
        "// returns the list of students\n",
        "app.get('/students', function (req, res) {\n",
        "\n",
        "    res.json(students);\n",
        "    \n",
        "});\n",
        "\n",
        "Here, the code defines a get() method that is used to retrieve the ‘students’ (here is an array of objects) data from the server.  It defines a route that listens to the ‘/students‘ endpoint. The second parameter is a callback function that receives ‘req'(request) and ‘res‘ (response) objects as arguments. It uses the ‘res.json()’ method to send the data to the client.\n",
        "\n",
        "1.2. Frontend (JavaScript)\n",
        "\n",
        "\n",
        "\n",
        "const getStudents = async(URL) => {\n",
        "      const response = await fetch(URL);\n",
        "        \n",
        "      const data = await response.json();\n",
        "        \n",
        "      console.log(data)\n",
        "}\n",
        "getStudents(BASEURL+\"/students\");\n",
        "\n",
        "Here, the code defines an async function called ‘getStudents()’ that makes a GET request to the API Endpoint (/students) using the fetch function. The fetch function returns a promise that is resolved with await and the response object is stored in the ‘response’ variable. The json() method is called on the response to parse the data which again returns a promise that is resolved by await and the data is stored in the ‘data’ variable. The parsed data(list of students) is then logged into the console.\n",
        "\n",
        ". POST\n",
        "The POST method sends data to create a ‘new record‘ on the server. The below code shows the implementation of the POST method in JavaScript.\n",
        "\n",
        "Example:\n",
        "\n",
        "2.1. Backend (Node with Express)\n",
        "\n",
        "// add student\n",
        "app.post(\"/students\", function (req, res) {\n",
        "  var student = req.body;\n",
        "  \n",
        "  students.push(student);\n",
        "  \n",
        "  res.json({ message: \"Record Added\" });\n",
        "});\n",
        "\n",
        "\n",
        "ere, the code defines a post() method that is used to add a new record i.e. ‘student’ data to the server.  It defines a route that listens to the ‘/students’ endpoint. The second parameter is a callback function that receives ‘req'(request) and ‘res’ (response) objects as arguments. It extracts the data from the request using ‘req.body’, and appends it to the existing list using the array push() method. Finally, it sends the acknowledgment message back to the client in the form of JSON data using res.json()\n",
        "\n",
        "const addStudent = async (URL, student) => {\n",
        "  const response = await fetch(URL, {\n",
        "    method: \"POST\",\n",
        "    headers: {\n",
        "      \"Content-Type\": \"application/json\",\n",
        "    },\n",
        "    body: student,\n",
        "  });\n",
        "\n",
        "  const data = await response.json();\n",
        "\n",
        "  console.log(data.message);\n",
        "};\n",
        "\n",
        "addStudent(BASEURL + \"/students\", { id: 3, name: \"Geek3\" });\n"
      ],
      "metadata": {
        "id": "lg_uIMPQ49Wd"
      }
    },
    {
      "cell_type": "markdown",
      "source": [
        "Question 7. What is the purpose of the @app.route() decorator in Flask?\n",
        "\n",
        "Answer- The @app.route() decorator in Flask is used to bind a URL route to a specific function. When a user visits the defined URL in their browser, Flask executes the associated function and returns its result to the user. It essentially maps a URL endpoint to a Python function.\n",
        "\n",
        "For example, consider the following code:\n",
        "\n",
        "from flask import Flask\n",
        "\n",
        "app = Flask(__name__)\n",
        "\n",
        "@app.route('/')\n",
        "def home():\n",
        "    return \"Hello, World!\"\n",
        "\n",
        "if __name__ == '__main__':\n",
        "    app.run(debug=True)\n",
        "\n",
        "    In this example, the @app.route('/') decorator tells Flask that the home() function should be executed when a user visits the root URL (\"/\"). When a user accesses the root URL, the function returns \"Hello, World!\", which is then displayed in the browser.\n",
        "\n",
        "\n",
        "The route() decorator can also handle different HTTP methods (e.g., GET, POST) and accept parameters in the URL. For instance:\n",
        "\n",
        "@app.route('/submit', methods=['POST'])\n",
        "def submit_form():\n",
        "    # Handle form submission logic\n",
        "    return \"Form submitted successfully!\"\n",
        "\n",
        "    This code snippet shows how to define a route that handles POST requests, commonly used for form submissions. The methods argument specifies which HTTP methods are allowed for this route.\n",
        "\n",
        "    @app.route('/user/<username>')\n",
        "def show_user_profile(username):\n",
        "    return f\"User profile for: {username}\"\n",
        "\n",
        "    This example demonstrates how to include dynamic parts in a URL. The <username> part is a variable, and Flask will pass the actual value from the URL to the show_user_profile() function as an argument.\n",
        "\n",
        "    We then use the route() decorator to tell Flask what URL should trigger our function. The function returns the message we want to display in the user's browser. The default content type is HTML, so HTML in the string will be rendered by the browser.\n",
        "\n",
        "ast Updated : 10 Mar, 2023\n",
        "App Routing means mapping the URLs to a specific function that will handle the logic for that URL. Modern web frameworks use more meaningful URLs to help users remember the URLs and make navigation simpler.\n",
        "\n",
        "Example: In our application, the URL (“/”) is associated with the root URL. So if our site’s domain was www.example.org and we want to add routing to “www.example.org/hello”, we would use “/hello”.\n",
        "\n",
        "To bind a function to an URL path we use the app.route decorator. In the below example, we have implemented the above routing in the flask.    "
      ],
      "metadata": {
        "id": "qYNU8sxC6e1u"
      }
    },
    {
      "cell_type": "markdown",
      "source": [
        "Question 8. What is the difference between GET and POST HTTP methods?\n",
        "\n",
        "Answer- HTTP (Hypertext Transfer Protocol) specifies a collection of request methods to specify what action is to be performed on a particular resource. The most commonly used HTTP request methods are GET, POST, PUT, PATCH, and DELETE. This article covers the 2 most common HTTP request methods, i.e. the GET & POST Methods among the rest of the methods.\n",
        "\n",
        "HTTP GET\n",
        "The HTTP GET method requests data from a server without altering its state. It appends parameters to the URL, making it suitable for retrieving non-sensitive data. Commonly used for viewing content, GET is ideal for requests that don’t involve data modification.\n",
        "\n",
        "Example: In the following HTML code we have created a form with text fields such as Username and City. we have also included a PHP file getmethod.php where our data would be sent after we click the submit button.\n",
        "\n",
        "<!DOCTYPE html>\n",
        "<html>\n",
        "\n",
        "<body>\n",
        "    <form action=\"getmethod.php\" method=\"GET\">\n",
        "        Username:\n",
        "          <input type=\"text\" name=\"username\" /> <br>\n",
        "        City:\n",
        "          <input type=\"text\" name=\"city\" /> <br>\n",
        "        <input type=\"submit\" />\n",
        "    </form>\n",
        "</body>\n",
        "\n",
        "</html>\n",
        "\n",
        "\n",
        "<!DOCTYPE html>\n",
        "<html>\n",
        "\n",
        "<body>\n",
        "    Welcome\n",
        "    <?php echo $_GET[\"username\"]; ?> </br>\n",
        "    Your City is:\n",
        "    <?php echo $_GET[\"city\"]; ?>\n",
        "</body>\n",
        "\n",
        "</html>\n",
        "\n",
        "\n",
        "Output: Data passed in GET method is clearly visible in the address bar, which can compromise the security.\n",
        "\n",
        "HTTP POST\n",
        "The HTTP POST method sends data from the client to the server to create or update resources, storing data in the request body. It’s suitable for secure data transfer, like images or documents, with security relying on encryption (HTTPS), authentication, and validation.\n",
        "\n",
        "Example: In the following HTML code we have created a form with text field as Username and Area of study. we have also included a PHP file postmethod.php, where our data would be sent after we click the submit button.\n",
        "\n",
        "<!DOCTYPE html>\n",
        "<html>\n",
        "\n",
        "<body>\n",
        "    <form action=\"postmethod.php\" method=\"post\">\n",
        "        Username:\n",
        "          <input type=\"text\" name=\"username\" /> <br>\n",
        "        Area of Study:\n",
        "          <input type=\"text\" name=\"area\" /> <br>\n",
        "\n",
        "        <input type=\"submit\" />\n",
        "    </form>\n",
        "</body>\n",
        "\n",
        "</html>\n",
        "\n",
        "\n",
        "In the following PHP code using the POST method we have displayed the Username and Area of study.\n",
        "\n",
        "<!DOCTYPE html>\n",
        "<html>\n",
        "\n",
        "<body>\n",
        "    Welcome\n",
        "    <?php echo $_POST[\"username\"]; ?> </br>\n",
        "    YOur Area of Study is:\n",
        "    <?php echo $_POST[\"area\"]; ?>\n",
        "</body>\n",
        "\n",
        "</html>\n",
        "\n",
        "\n"
      ],
      "metadata": {
        "id": "91T9oQhj7hUG"
      }
    },
    {
      "cell_type": "markdown",
      "source": [
        "Question 9.How do you handle errors in Flask APIs?\n",
        "\n",
        "Answer- In Flask APIs, error handling ensures clear communication with clients and maintains application stability. It involves:\n",
        "\n",
        "\n",
        "Returning Meaningful Status Codes (e.g., 400 for bad requests, 404 for missing resources, 500 for server errors).\n",
        "\n",
        "\n",
        "Using Custom Error Handlers to define global responses for specific errors.\n",
        "\n",
        "\n",
        "Validating User Input to catch errors early with descriptive error messages.\n",
        "\n",
        "\n",
        "Consistent JSON Error Responses, ensuring structured and readable feedback.\n",
        "\n",
        "\n",
        "Logging Errors for debugging while avoiding exposure of sensitive information\n",
        "Using Flask-RESTful extensions for standardized error handling."
      ],
      "metadata": {
        "id": "Psl7CfOO8etP"
      }
    },
    {
      "cell_type": "markdown",
      "source": [
        "Question 10.How do you connect Flask to a SQL database?\n",
        "\n",
        "Answer- Steps to Connect Flask to a SQL Database:\n",
        "\n",
        "\n",
        "Install Flask-SQLAlchemy (a popular ORM) via pip.\n",
        "\n",
        "\n",
        "Install the database driver, depending on the SQL database you're using:\n",
        "\n",
        "\n",
        "SQLite\n",
        "\n",
        "\n",
        "MySQL\n",
        "\n",
        "\n",
        "PostgreSQL\n",
        "\n",
        "\n",
        "Set up the database URI in your Flask app’s configuration.\n",
        "\n",
        "\n",
        "Create Python classes that represent database tables (known as models).\n",
        "\n",
        "\n",
        "Use SQLAlchemy to create tables from your models.\n",
        "\n",
        "\n",
        "Add, retrieve, update, and delete records in the database.\n",
        "\n",
        "\n",
        "Run your Flask app and test database interactions using the defined endpoints."
      ],
      "metadata": {
        "id": "YiVv1NGOCr1e"
      }
    },
    {
      "cell_type": "markdown",
      "source": [
        "Question 11. What is the role of Flask-SQLAlchemy?\n",
        "\n",
        "Answer- Flask-SQLAlchemy is an extension for Flask that integrates SQLAlchemy, a popular Object Relational Mapper (ORM), with Flask applications. Its primary role is to simplify database management and interaction within Flask apps by providing a seamless interface between Python objects and relational databases.\n",
        "\n"
      ],
      "metadata": {
        "id": "oT-hX4lUDhvJ"
      }
    },
    {
      "cell_type": "markdown",
      "source": [
        "Question 12. What are Flask blueprints, and how are they useful?\n",
        "\n",
        "Answer- Flask Blueprints are a feature in Flask that allow you to organize and structure your application into smaller, modular components. Blueprints are essentially reusable application segments that can contain routes, templates, static files, and other functionality. They help manage complex Flask applications by dividing them into logical sections.\n",
        "\n",
        "\n",
        "Benefits:\n",
        "\n",
        "\n",
        "Helps keep route definitions and logic grouped together for better project structure.\n",
        "\n",
        "\n",
        "Facilitates the development of large-scale applications by modularizing functionality.\n",
        "\n",
        "\n",
        "Allows reusing blueprints across multiple apps, reducing redundant code.\n",
        "\n",
        "\n",
        "Keeps related files and logic grouped, making debugging and testing easier."
      ],
      "metadata": {
        "id": "4ecF2C1zD3PA"
      }
    },
    {
      "cell_type": "markdown",
      "source": [
        "Question 13. What is the purpose of Flask's request object?\n",
        "\n",
        "Answer- The object in Flask plays a crucial role in handling incoming HTTP requests. It provides all the information sent by the client to the server, including data like headers, form inputs, query parameters, cookies, and files. Developers use the object to access and process the details of each request."
      ],
      "metadata": {
        "id": "x3enhsa7EQ5X"
      }
    },
    {
      "cell_type": "markdown",
      "source": [
        "Question 14. How do you create a RESTful API endpoint using Flask?\n",
        "\n",
        "Answer- Steps:\n",
        "\n",
        "\n",
        "Make sure Flask is installed in your environment.\n",
        "\n",
        "\n",
        "Create a file (e.g., ) and initialize a Flask application.\n",
        "\n",
        "\n",
        "Use Flask's decorator to define your endpoint and specify the HTTP method(s).\n",
        "\n",
        "\n",
        "Define additional methods for creating, updating, and deleting items.\n",
        "\n",
        "\n",
        "Add the following code to run your app.\n",
        "\n",
        "\n",
        "Test Your API:\n",
        "\n",
        "\n",
        "Start the server (), then test the API endpoints using tools like:\n",
        "\n",
        "\n",
        "Postman: Send GET, POST, PUT, or DELETE requests.\n",
        "\n",
        "\n",
        "Curl: Use command-line HTTP requests.\n"
      ],
      "metadata": {
        "id": "hp9cEWYWEgoY"
      }
    },
    {
      "cell_type": "markdown",
      "source": [
        "Question 15. What is the purpose of Flask's jsonify() function?\n",
        "\n",
        "Answer- The function in Flask is used to convert Python data structures (such as dictionaries or lists) into JSON (JavaScript Object Notation) format and create a Flask object. This is essential for building APIs, as JSON is the standard format for exchanging data between a server and a client."
      ],
      "metadata": {
        "id": "nV8g57sZFVSY"
      }
    },
    {
      "cell_type": "markdown",
      "source": [
        "Question 16. Explain Flask’s url_for() function.\n",
        "\n",
        "Answer- The function in Flask is a utility that dynamically generates URLs for specific routes defined in your application. Instead of hardcoding URLs directly, builds them based on the route’s function name and optional arguments, ensuring flexibility and maintainability."
      ],
      "metadata": {
        "id": "EQBedEBjFwZR"
      }
    },
    {
      "cell_type": "markdown",
      "source": [
        "Question 17 . How does Flask handle static files (CSS, Javascript, etc.)?\n",
        "\n",
        "Answer- Flask handles static files such as CSS, JavaScript, and images by serving them from a designated static directory in your Flask project. These files are used to enhance the frontend of your web application and can be accessed directly by clients.\n",
        "\n",
        "\n",
        "Flask Handles Static Files:\n",
        "\n",
        "\n",
        "By default, Flask looks for static files in a folder named , located at the root of your project directory.\n",
        "\n",
        "\n",
        "Flask makes static files available via the URL path.\n",
        "\n",
        "\n",
        "Use Flask's function to dynamically generate the URL for static files in your templates. This ensures that your application remains maintainable and works even if file paths change.\n",
        "\n",
        "\n",
        "If you want to use a different directory for static files, you can specify it when initializing the Flask app."
      ],
      "metadata": {
        "id": "-QN3qoS9GBaY"
      }
    },
    {
      "cell_type": "markdown",
      "source": [
        "Question 18.  What is an API specification, and how does it help in building a Flask API?\n",
        "\n",
        "Answer- An API specification is a detailed, standardized description of how an API behaves, including its endpoints, data formats, methods, authentication, and other critical features. It acts as a blueprint, offering developers clear instructions on how to interact with the API. In the context of building a Flask API, an API specification can serve as a guideline to design, implement, and document the API effectively.\n",
        "\n",
        "\n",
        "An API Specification Helps in Building a Flask API by:\n",
        "An API specification provides a roadmap for designing routes, methods, and responses in Flask, ensuring the API aligns with intended behavior.\n",
        "Helps maintain consistency across endpoints, making the API user-friendly and predictable.\n",
        "\n",
        "\n",
        "Acts as a shared contract between backend developers, frontend developers, and other stakeholders, avoiding misunderstandings during implementation.\n",
        "\n",
        "\n",
        "Tools like Swagger (OpenAPI) or Postman can generate interactive API documentation and test scripts directly from the specification.\n",
        "\n",
        "\n",
        "A detailed API specification outlines expected behaviors, making it easier to test endpoints and identify issues.\n",
        "\n",
        "\n",
        "Serves as a base for extending the API as new features or endpoints are added."
      ],
      "metadata": {
        "id": "or22BDcSGgYf"
      }
    },
    {
      "cell_type": "markdown",
      "source": [
        "Question 19. What are HTTP status codes, and why are they important in a Flask API?\n",
        "\n",
        "Answer- HTTP status codes are standardized numerical responses sent by a server to indicate the result of a client's HTTP request. They help communicate whether a request was successful, encountered an error, or requires further action. Status codes are essential in Flask APIs to inform clients about the outcome of their interactions with the server.\n",
        "\n",
        "\n",
        "HTTP Status Codes are Important in Flask APIs because:\n",
        "\n",
        "\n",
        "Status codes provide concise, standardized feedback to clients about the outcome of their requests, improving communication.\n",
        "\n",
        "\n",
        "Enables API developers to inform clients about specific issues (e.g., invalid input, resource not found), allowing clients to respond accordingly.\n",
        "\n",
        "\n",
        "Help developers diagnose issues by providing clarity on whether errors originate from the client or the server.\n",
        "\n",
        "\n",
        "Returning appropriate status codes ensures the API adheres to REST principles, enhancing reliability and usability.\n",
        "\n",
        "\n",
        "By using meaningful status codes, the API can guide users to resolve issues (e.g., for bad inputs, for authentication).\n",
        "\n"
      ],
      "metadata": {
        "id": "2o57v6MTHAKA"
      }
    },
    {
      "cell_type": "markdown",
      "source": [
        "Question 20. How do you handle POST requests in Flask?\n",
        "\n",
        "Answer- To handle POST requests in Flask:\n",
        "\n",
        "\n",
        "Route Definition: Use and specify\n",
        "\n",
        "\n",
        "Access Request Data: Utilize the object to retrieve.\n",
        "\n",
        "\n",
        "Validation: Check for required data and formats to prevent errors.\n",
        "\n",
        "\n",
        "Respond to Clients: Use to return structured JSON responses with appropriate HTTP status codes."
      ],
      "metadata": {
        "id": "KmprOqbwH2n5"
      }
    },
    {
      "cell_type": "markdown",
      "source": [
        "Question 21. How would you secure a Flask API?\n",
        "\n",
        "Answer- Always serve your API over HTTPS to encrypt data in transit and prevent man-in-the-middle attacks.\n",
        "\n",
        "\n",
        "Validate all incoming data to prevent SQL injection, XSS, and other malicious attacks.\n",
        "\n",
        "\n",
        "Implement authentication mechanisms such as:\n",
        "\n",
        "API keys\n",
        "OAuth2\n",
        "JSON Web Tokens (JWT)\n",
        "\n",
        "\n",
        "Restrict access based on roles or user permissions.\n",
        "\n",
        "\n",
        "Use tokens like CSRF tokens to secure POST, PUT, and DELETE requests. and so on\n"
      ],
      "metadata": {
        "id": "DRZO4OWlIbS4"
      }
    },
    {
      "cell_type": "markdown",
      "source": [
        "Questions 22. What is the significance of the Flask-RESTful extension?\n",
        "\n",
        "Answer- Flask-RESTful simplifies the process of building RESTful APIs by providing tools for:\n",
        "\n",
        "\n",
        "Resources are represented as classes, with HTTP methods defined as methods.\n",
        "\n",
        "\n",
        "Routes are linked to resources using the object for better organization.\n",
        "\n",
        "\n",
        "Ensures consistent responses with features like .\n",
        "\n",
        "\n",
        "The module helps validate and extract request data.\n",
        "\n",
        "\n",
        "Promotes adherence to RESTful principles, improving API design.\n",
        "\n",
        "\n",
        "Ideal for structuring and scaling complex APIs."
      ],
      "metadata": {
        "id": "39itVK5UK9vh"
      }
    },
    {
      "cell_type": "markdown",
      "source": [
        "Questions 23. What is the role of Flask’s session object?\n",
        "\n",
        "Answer- Flask's object manages user-specific data across multiple requests. Key points include:\n",
        "\n",
        "\n",
        "Stores persistent data like authentication status or preferences.\n",
        "\n",
        "\n",
        "Uses server-side storage with client-side session identifiers (cookies) protected by cryptographic signing.\n",
        "\n",
        "\n",
        "Allows storing (), retrieving (), and clearing ( or ) data.\n",
        "\n",
        "\n",
        "Facilitates login systems and personalized user experiences."
      ],
      "metadata": {
        "id": "cLkH2ZhgLh76"
      }
    },
    {
      "cell_type": "markdown",
      "source": [
        "# Practical Questions"
      ],
      "metadata": {
        "id": "-jO4cyx9MDPo"
      }
    },
    {
      "cell_type": "code",
      "source": [
        " # 1. How do you create a basic Flask application?\n",
        "\n",
        " from flask import Flask\n",
        "\n",
        "# Initialize the Flask application\n",
        "app = Flask(__name__)\n",
        "\n",
        "# Define a route for the homepage\n",
        "@app.route('/')\n",
        "def home():\n",
        "    return \"Welcome to your first Flask app!\"\n",
        "\n",
        "# Run the Flask app\n",
        "if __name__ == '__main__':\n",
        "    app.run(debug=True)"
      ],
      "metadata": {
        "colab": {
          "base_uri": "https://localhost:8080/"
        },
        "id": "HRqp9Vs7MKc6",
        "outputId": "cb317df1-8435-489d-e151-ef9bfb1f39fb"
      },
      "execution_count": null,
      "outputs": [
        {
          "output_type": "stream",
          "name": "stdout",
          "text": [
            " * Serving Flask app '__main__'\n",
            " * Debug mode: on\n"
          ]
        },
        {
          "output_type": "stream",
          "name": "stderr",
          "text": [
            "INFO:werkzeug:\u001b[31m\u001b[1mWARNING: This is a development server. Do not use it in a production deployment. Use a production WSGI server instead.\u001b[0m\n",
            " * Running on http://127.0.0.1:5000\n",
            "INFO:werkzeug:\u001b[33mPress CTRL+C to quit\u001b[0m\n",
            "INFO:werkzeug: * Restarting with stat\n"
          ]
        }
      ]
    },
    {
      "cell_type": "code",
      "source": [
        "# 2 How do you serve static files like images or CSS in Flask?\n",
        "\n",
        "# In html file, we call all the images/ css files after storing on the static folder\n",
        "# <!DOCTYPE html>\n",
        "# <html>\n",
        "# <head>\n",
        "#     <link rel=\"stylesheet\" href=\"{{ url_for('static', filename='styles.css') }}\">\n",
        "# </head>\n",
        "# <body>\n",
        "#     <h1>Hello, Flask!</h1>\n",
        "#     <img src=\"{{ url_for('static', filename='images/logo.png') }}\" alt=\"Logo\">\n",
        "#     <script src=\"{{ url_for('static', filename='script.js') }}\"></script>\n",
        "# </body>\n",
        "# </html>\n",
        "\n",
        "# now html file is stored in templates folder, and it is now called\n",
        "from flask import Flask, render_template\n",
        "\n",
        "app = Flask(__name__)\n",
        "\n",
        "@app.route('/')\n",
        "def home():\n",
        "    return render_template('index.html')\n",
        "\n",
        "if __name__ == '__main__':"
      ],
      "metadata": {
        "id": "OiWQfDjdMgsT"
      },
      "execution_count": null,
      "outputs": []
    },
    {
      "cell_type": "code",
      "source": [
        "# 3 How do you define different routes with different HTTP methods in Flask?\n",
        "\n",
        "# Basic Route with a Single HTTP Method\n",
        "from flask import Flask, request\n",
        "\n",
        "app = Flask(__name__)\n",
        "\n",
        "@app.route('/')\n",
        "def home():\n",
        "    return \"This is a GET request\""
      ],
      "metadata": {
        "id": "Y96c_MkARNDr"
      },
      "execution_count": null,
      "outputs": []
    },
    {
      "cell_type": "code",
      "source": [
        "# Route with Multiple HTTP Methods\n",
        "@app.route('/submit', methods=['GET', 'POST'])\n",
        "def submit():\n",
        "    if request.method == 'POST':\n",
        "        return \"This is a POST request\"\n",
        "    else:\n",
        "        return \"This is a GET request\""
      ],
      "metadata": {
        "id": "orCFPWYVRlJ3"
      },
      "execution_count": null,
      "outputs": []
    },
    {
      "cell_type": "code",
      "source": [
        "# Routes for Specific HTTP Methods\n",
        "@app.route('/update', methods=['PUT'])\n",
        "def update():\n",
        "    return \"This is a PUT request\"\n",
        "\n",
        "@app.route('/delete', methods=['DELETE'])\n",
        "def delete():\n",
        "    return \"This is a DELETE request\""
      ],
      "metadata": {
        "id": "4E4xHvWKRrJG"
      },
      "execution_count": null,
      "outputs": []
    },
    {
      "cell_type": "code",
      "source": [
        "# Handle Data in HTTP Methods\n",
        "@app.route('/data', methods=['POST'])\n",
        "def handle_data():\n",
        "    data = request.json  # Parse JSON data from the request body\n",
        "    return f\"Data received: {data}\", 200"
      ],
      "metadata": {
        "id": "ZtBqLB32Rx9T"
      },
      "execution_count": null,
      "outputs": []
    },
    {
      "cell_type": "code",
      "source": [
        "# 4 How do you render HTML templates in Flask?\n",
        "\n",
        "from flask import Flask, render_template\n",
        "\n",
        "app = Flask(__name__)\n",
        "\n",
        "@app.route('/')\n",
        "def home():\n",
        "    return render_template('index.html')# html file is rendered\n",
        "\n",
        "if __name__ == '__main__':\n",
        "    app.run(debug=True)"
      ],
      "metadata": {
        "id": "yOwBPHFaRyzU"
      },
      "execution_count": null,
      "outputs": []
    },
    {
      "cell_type": "code",
      "source": [
        "# 5 How can you generate URLs for routes in Flask using url_for?\n",
        "\n",
        "from flask import Flask, url_for\n",
        "\n",
        "app = Flask(__name__)\n",
        "\n",
        "@app.route('/')\n",
        "def home():\n",
        "    return \"Welcome to the Homepage!\"\n",
        "\n",
        "@app.route('/about')\n",
        "def about():\n",
        "    return \"About Us Page!\"\n",
        "\n",
        "# Generating URLs\n",
        "with app.test_request_context():\n",
        "    print(url_for('home'))\n",
        "    print(url_for('about'))"
      ],
      "metadata": {
        "id": "T3lSEQU4Seaa"
      },
      "execution_count": null,
      "outputs": []
    },
    {
      "cell_type": "code",
      "source": [
        "#6 How do you handle forms in Flask?\n",
        "\n",
        "# Create an HTML Form\n",
        "# <form action=\"/submit\" method=\"POST\">\n",
        "#     <label for=\"name\">Name:</label>\n",
        "#     <input type=\"text\" id=\"name\" name=\"name\" required>\n",
        "#     <button type=\"submit\">Submit</button>\n",
        "# </form>\n",
        "\n",
        "# Define a Route to Handle the Form Data\n",
        "from flask import Flask, request, render_template\n",
        "\n",
        "app = Flask(__name__)\n",
        "\n",
        "@app.route('/form')\n",
        "def form():\n",
        "    return render_template('form.html')\n",
        "\n",
        "@app.route('/submit', methods=['POST'])\n",
        "def submit():\n",
        "    name = request.form['name']\n",
        "    return f\"Hello, {name}!\""
      ],
      "metadata": {
        "id": "9kH9GKFpTGyP"
      },
      "execution_count": null,
      "outputs": []
    },
    {
      "cell_type": "code",
      "source": [
        "# 7 How can you validate form data in Flask?\n",
        "\n",
        "from flask import Flask, request, jsonify\n",
        "\n",
        "app = Flask(__name__)\n",
        "\n",
        "@app.route('/submit', methods=['POST'])\n",
        "def submit():\n",
        "    name = request.form.get('name')\n",
        "    email = request.form.get('email')\n",
        "\n",
        "\n",
        "    if not name or not email:\n",
        "        return jsonify({\"error\": \"Name and email are required\"}), 400\n",
        "    if \"@\" not in email:\n",
        "        return jsonify({\"error\": \"Invalid email format\"}), 400\n",
        "\n",
        "    return jsonify({\"message\": f\"Welcome, {name}!\"})"
      ],
      "metadata": {
        "id": "PiwlH1SWTQ78"
      },
      "execution_count": null,
      "outputs": []
    },
    {
      "cell_type": "code",
      "source": [
        "# 8 How do you manage sessions in Flask?\n",
        "\n",
        "from flask import Flask, session, request, jsonify\n",
        "\n",
        "app = Flask(__name__)\n",
        "\n",
        "\n",
        "app.secret_key = 'your_secret_key'\n",
        "\n",
        "\n",
        "@app.route('/set_session', methods=['POST'])\n",
        "def set_session():\n",
        "    username = request.json.get('username')\n",
        "    if not username:\n",
        "        return jsonify({\"error\": \"Username is required\"}), 400\n",
        "    session['username'] = username\n",
        "    return jsonify({\"message\": f\"Session created for {username}!\"}), 200\n",
        "\n",
        "\n",
        "@app.route('/get_session', methods=['GET'])\n",
        "def get_session():\n",
        "    username = session.get('username')\n",
        "    if not username:\n",
        "        return jsonify({\"error\": \"No active session\"}), 404\n",
        "    return jsonify({\"username\": username}), 200\n",
        "\n",
        "\n",
        "@app.route('/clear_session', methods=['POST'])\n",
        "def clear_session():\n",
        "    session.clear()\n",
        "    return jsonify({\"message\": \"Session cleared successfully!\"}), 200\n",
        "\n",
        "if __name__ == '__main__':\n",
        "    app.run(debug=True)"
      ],
      "metadata": {
        "id": "IrWFk4maTbqe"
      },
      "execution_count": null,
      "outputs": []
    },
    {
      "cell_type": "code",
      "source": [
        "# 9 How do you redirect to a different route in Flask?\n",
        "\n",
        "from flask import Flask, redirect, url_for\n",
        "\n",
        "app = Flask(__name__)\n",
        "\n",
        "\n",
        "@app.route('/')\n",
        "def home():\n",
        "    return \"Welcome to the Home Page!\"\n",
        "\n",
        "\n",
        "@app.route('/about')\n",
        "def about():\n",
        "    return \"This is the About Page!\"\n",
        "\n",
        "\n",
        "@app.route('/redirect-home')\n",
        "def redirect_home():\n",
        "    return redirect(url_for('home'))\n",
        "\n",
        "\n",
        "@app.route('/redirect-about')\n",
        "def redirect_about():\n",
        "    return redirect(url_for('about'))\n",
        "\n",
        "\n",
        "@app.route('/profile/<username>')\n",
        "def profile(username):\n",
        "    return f\"Welcome to {username}'s Profile!\"\n",
        "\n",
        "@app.route('/redirect-to-profile')\n",
        "def redirect_to_profile():\n",
        "    return redirect(url_for('profile', username='Anuj'))\n",
        "\n",
        "if __name__ == '__main__':\n",
        "    app.run(debug=True)"
      ],
      "metadata": {
        "id": "i3GFoH22TmqT"
      },
      "execution_count": null,
      "outputs": []
    },
    {
      "cell_type": "code",
      "source": [
        "# 10 How do you handle errors in Flask (e.g, 404)?\n",
        "\n",
        "from flask import Flask, render_template, jsonify\n",
        "\n",
        "app = Flask(__name__)\n",
        "\n",
        "\n",
        "@app.route('/')\n",
        "def home():\n",
        "    return \"Welcome to the Home Page!\"\n",
        "\n",
        "\n",
        "@app.route('/sample')\n",
        "def sample():\n",
        "    return \"This is the Sample Page!\"\n",
        "\n",
        "\n",
        "@app.errorhandler(404)\n",
        "def not_found_error(e):\n",
        "    return jsonify({\"error\": \"Page not found\"}), 404\n",
        "\n",
        "\n",
        "@app.errorhandler(500)\n",
        "def internal_server_error(e):\n",
        "    return jsonify({\"error\": \"Internal Server Error occurred\"}), 500\n",
        "\n",
        "if __name__ == '__main__':\n",
        "    app.run(debug=True)"
      ],
      "metadata": {
        "id": "CfWpFV29UHwQ"
      },
      "execution_count": null,
      "outputs": []
    },
    {
      "cell_type": "code",
      "source": [
        "# 11 How do you structure a Flask app using Blueprints?\n",
        "\n",
        "from flask import Blueprint, render_template\n",
        "\n",
        "\n",
        "user_bp = Blueprint('user_bp', __name__, template_folder='../templates')\n",
        "\n",
        "\n",
        "@user_bp.route('/<username>')\n",
        "def user_profile(username):\n",
        "    return render_template('user.html', username=username)"
      ],
      "metadata": {
        "id": "UElM8P-gUSBu"
      },
      "execution_count": null,
      "outputs": []
    },
    {
      "cell_type": "code",
      "source": [
        "# 12 How do you define a custom Jinja filter in Flask?\n",
        "\n",
        "from flask import Flask, render_template\n",
        "\n",
        "app = Flask(__name__)\n",
        "\n",
        "\n",
        "@app.template_filter('reverse')\n",
        "def reverse_string(value):\n",
        "    \"\"\"Reverses the given string.\"\"\"\n",
        "    return value[::-1]\n",
        "\n",
        "\n",
        "@app.route('/')\n",
        "def home():\n",
        "\n",
        "    return render_template('example.html', message=\"Flask Filters\")\n",
        "\n",
        "if __name__ == '__main__':\n",
        "    app.run(debug=True)"
      ],
      "metadata": {
        "id": "khLGI0fbUaAo"
      },
      "execution_count": null,
      "outputs": []
    },
    {
      "cell_type": "code",
      "source": [
        "# 13 How can you redirect with query parameters in Flask?\n",
        "\n",
        "from flask import Flask, redirect, url_for\n",
        "\n",
        "app = Flask(__name__)\n",
        "\n",
        "@app.route('/')\n",
        "def home():\n",
        "    return \"Welcome to the Home Page!\"\n",
        "\n",
        "@app.route('/redirect')\n",
        "def redirect_with_params():\n",
        "\n",
        "    return redirect(url_for('home', q='Flask', page=1))\n",
        "\n",
        "@app.route('/home')\n",
        "def home_with_params():\n",
        "\n",
        "    return \"Welcome with parameters!\"\n",
        "\n",
        ""
      ],
      "metadata": {
        "id": "G_cqs1RqUk9Z"
      },
      "execution_count": null,
      "outputs": []
    },
    {
      "cell_type": "code",
      "source": [
        "# 14 How do you return JSON responses in Flask?\n",
        "\n",
        "from flask import Flask, jsonify, request\n",
        "\n",
        "app = Flask(__name__)\n",
        "\n",
        "\n",
        "@app.route('/simple-json', methods=['GET'])\n",
        "def simple_json():\n",
        "    return jsonify({\n",
        "        \"message\": \"Hello, this is a JSON response!\",\n",
        "        \"status\": \"success\"\n",
        "    })\n",
        "\n",
        "\n",
        "@app.route('/greet', methods=['POST'])\n",
        "def greet_user():\n",
        "    data = request.json\n",
        "    name = data.get('name', 'Guest')\n",
        "    return jsonify({\n",
        "        \"message\": f\"Hello, {name}!\",\n",
        "        \"status\": \"success\"\n",
        "    }), 200\n",
        "\n",
        "\n",
        "@app.route('/error', methods=['GET'])\n",
        "def error():\n",
        "    return jsonify({\n",
        "        \"error\": \"Something went wrong\",\n",
        "        \"code\": 500\n",
        "    }), 500\n",
        "\n",
        "if __name__ == '__main__':\n",
        "    app.run(debug=True)"
      ],
      "metadata": {
        "id": "Ejw3qUpOUyQc"
      },
      "execution_count": null,
      "outputs": []
    },
    {
      "cell_type": "code",
      "source": [
        "#15 How do you capture URL parameters in Flask?\n",
        "\n",
        "from flask import Flask\n",
        "\n",
        "app = Flask(__name__)\n",
        "\n",
        "# Route with a dynamic URL parameter\n",
        "@app.route('/user/<username>')\n",
        "def user_profile(username):\n",
        "\n",
        "    return f\"Hello, {username}! Welcome to your profile.\"\n",
        "\n",
        "\n",
        "@app.route('/product/<category>/<int:product_id>')\n",
        "def product_details(category, product_id):\n",
        "\n",
        "    return f\"Category: {category}, Product ID: {product_id}\"\n",
        "\n",
        "if __name__ == '__main__':\n",
        "    app.run(debug=True)"
      ],
      "metadata": {
        "id": "k-de3iN4U84g"
      },
      "execution_count": null,
      "outputs": []
    },
    {
      "cell_type": "code",
      "source": [],
      "metadata": {
        "id": "imxste4OVhSx"
      },
      "execution_count": null,
      "outputs": []
    },
    {
      "cell_type": "markdown",
      "source": [],
      "metadata": {
        "id": "ORVftnsZRMsz"
      }
    },
    {
      "cell_type": "markdown",
      "source": [],
      "metadata": {
        "id": "f-4yYi8z8LSn"
      }
    },
    {
      "cell_type": "code",
      "source": [],
      "metadata": {
        "id": "vU-1cpWj1Z6u"
      },
      "execution_count": null,
      "outputs": []
    }
  ]
}